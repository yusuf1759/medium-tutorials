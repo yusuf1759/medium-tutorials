{
 "cells": [
  {
   "cell_type": "markdown",
   "metadata": {},
   "source": [
    "# Computational Chemist Guide to Scrapping HTML for chemical data"
   ]
  },
  {
   "cell_type": "markdown",
   "metadata": {},
   "source": [
    "## This tutorial is focused on scraping ZINC database"
   ]
  },
  {
   "cell_type": "markdown",
   "metadata": {},
   "source": [
    "### 1. Scrapping for SMILES, and availabilty info"
   ]
  },
  {
   "cell_type": "code",
   "execution_count": 1,
   "metadata": {},
   "outputs": [
    {
     "name": "stdout",
     "output_type": "stream",
     "text": [
      "ZINC000000000007 C=CCc1ccc(OCC(=O)N(CC)CC)c(OC)c1 On-Demand\n",
      "ZINC000000000010 C[C@@]1(c2ccccc2)OC(C(=O)O)=CC1=O In-Stock\n",
      "ZINC000000000011 COc1cc(Cc2cnc(N)nc2N)cc(OC)c1N(C)C In-Stock\n",
      "ZINC000000000012 O=C(C[S@@](=O)C(c1ccccc1)c1ccccc1)NO In-Stock\n",
      "Downloaded 4 from 4\r"
     ]
    }
   ],
   "source": [
    "import requests\n",
    "from bs4 import BeautifulSoup\n",
    "from __future__ import print_function\n",
    "import csv\n",
    "import pandas as pd\n",
    "import warnings\n",
    "warnings.filterwarnings('ignore')\n",
    "\n",
    "df = pd.read_csv(\"files_containing_zinc_ids.txt\")\n",
    "df.head()\n",
    "\n",
    "write_file = open(\"outfile.txt\",\"a\")\n",
    "\n",
    "i = 1\n",
    "\n",
    "for cid in df[\"id\"]:\n",
    "    response = requests.get(\"http://zinc15.docking.org/substances/\"+ str(cid) +\".xml\")\n",
    "    xml=BeautifulSoup(response.content)\n",
    "        \n",
    "    response1 = requests.get(\"http://zinc15.docking.org/substances/\"+ str(cid) +\"/\")\n",
    "    xml1=BeautifulSoup(response1.content) \n",
    "    zinc =xml.zinc_id.text\n",
    "    smi = xml.smiles.text\n",
    "    vendor = xml1.findAll(\"td\")[1].text\n",
    "    #print (xml.findAll(\"td\"))\n",
    "    write_file.write(\"{0},{1},{2}\\n\".format(zinc,smi,vendor))\n",
    "    print (xml.zinc_id.text,xml.smiles.text,xml1.findAll(\"td\")[1].text)\n",
    "    #print (xml.zinc_id.text)\n",
    "    #print (xml.smiles.text)\n",
    "   \n",
    "    b = \"Downloaded \" + str(i) + \" from \" + str(df[\"id\"].count())\n",
    "    print (\"%s\" % b, end=\"\\r\")\n",
    "    i += 1\n",
    "    \n",
    "write_file.close()"
   ]
  },
  {
   "cell_type": "markdown",
   "metadata": {},
   "source": [
    "## Vendors"
   ]
  },
  {
   "cell_type": "markdown",
   "metadata": {},
   "source": [
    "### 2. Scraping for vendors, availabilty and date molecule info was last updated"
   ]
  },
  {
   "cell_type": "code",
   "execution_count": 2,
   "metadata": {},
   "outputs": [
    {
     "name": "stdout",
     "output_type": "stream",
     "text": [
      "ZINC_ID , Vendor , Purchability , Updated\n",
      "ZINC000000000010 , Aldrich CPR , In-Stock , 2018-08-21\n",
      "ZINC000000000010 , Tetrahedron Building Blocks , In-Stock , 2017-04-22\n",
      "ZINC000000000010 , Princeton BioMolecular BuildingBlocks , In-Stock , 2018-09-07\n",
      "ZINC000000000011 , Hangzhou Yuhao Chemical Technology , In-Stock , 2018-10-01\n",
      "ZINC000000000012 , Ambeed , In-Stock , 2018-10-09\n",
      "ZINC000000000012 , Hangzhou Yuhao Chemical Technology , In-Stock , 2018-10-01\n",
      "ZINC000000000012 , Sigma Aldrich (Building Blocks) , In-Stock , 2018-08-22\n",
      "ZINC000000000012 , AK Scientific Economical , In-Stock , 2018-10-02\n",
      "ZINC000000000012 , Molepedia , In-Stock , 2016-05-09\n",
      "ZINC000000000012 , Syntharise , In-Stock , 2017-04-24\n",
      "ZINC000000000012 , Molport BB Economical , In-Stock , 2018-02-17\n",
      "ZINC000000000012 , Molport SC Economical , In-Stock , 2018-02-20\n",
      "ZINC000000000012 , Aobious , In-Stock , 2016-02-25\n",
      "ZINC000000000012 , Bosche Scientific , In-Stock , 2018-09-11\n",
      "ZINC000000000012 , Tetrahedron Building Blocks , In-Stock , 2017-04-22\n",
      "ZINC000000000012 , KeyOrganics Bioactives , In-Stock , 2018-08-13\n",
      "Downloaded 4 from 4\r"
     ]
    }
   ],
   "source": [
    "df = pd.read_csv(\"files_containing_zinc_ids.txt\")\n",
    "df.head()\n",
    "\n",
    "write_file = open(\"outfile.csv\",\"a\")\n",
    "\n",
    "i = 1\n",
    "print (\"ZINC_ID\",\",\",\"Vendor\",\",\",\"Purchability\",\",\",\"Updated\")\n",
    "write_file.write(\"{0},{1},{2},{3}\\n\".format(\"ZINC_ID\",\"Vendor\",\"Purchability\",\"Updated\"))\n",
    "for cid in df[\"id\"]:\n",
    "    response = requests.get(\"http://zinc15.docking.org/substances/\"+ str(cid)+\"/catalogs/subsets/for-sale.csv\")\n",
    "    xml=BeautifulSoup(response.content)\n",
    "    j=xml.findAll(\"p\")[0].text \n",
    "    myreader = csv.reader(j.splitlines())\n",
    "    \n",
    "    for row in myreader:\n",
    "        #print (row)\n",
    "        \n",
    "        if (row[2]==\"In-Stock\"):\n",
    "            \n",
    "            p =([cid] + row)\n",
    "            write_file.write(\"{0},{1},{2},{3}\\n\".format(p[0],p[2],p[3],p[7]))\n",
    "            print (p[0],\",\",p[2],\",\",p[3],\",\",p[7])\n",
    "    b = \"Downloaded \" + str(i) + \" from \" + str(df[\"id\"].count())\n",
    "    print (\"%s\" % b, end=\"\\r\")\n",
    "    i += 1\n",
    "    \n",
    "write_file.close()\n",
    "    #df = pd.read_csv(j)"
   ]
  },
  {
   "cell_type": "code",
   "execution_count": null,
   "metadata": {
    "collapsed": true
   },
   "outputs": [],
   "source": []
  }
 ],
 "metadata": {
  "kernelspec": {
   "display_name": "Python 2",
   "language": "python",
   "name": "python2"
  },
  "language_info": {
   "codemirror_mode": {
    "name": "ipython",
    "version": 2
   },
   "file_extension": ".py",
   "mimetype": "text/x-python",
   "name": "python",
   "nbconvert_exporter": "python",
   "pygments_lexer": "ipython2",
   "version": "2.7.3"
  }
 },
 "nbformat": 4,
 "nbformat_minor": 2
}
